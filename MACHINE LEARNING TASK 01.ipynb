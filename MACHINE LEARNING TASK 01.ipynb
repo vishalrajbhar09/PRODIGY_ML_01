{
 "cells": [
  {
   "cell_type": "markdown",
   "id": "2e901aad",
   "metadata": {},
   "source": [
    "### NAME :- VISHAL RAMKUMAR RAJBHAR\n",
    "### CONTACT NO :- 7558443011 \n",
    "### GMAIL ID:- vishalrajbhar.0913@gmail.com"
   ]
  },
  {
   "cell_type": "markdown",
   "id": "8476788a",
   "metadata": {},
   "source": [
    "# Task-01\n",
    "\n",
    "Implement a linear regression model to predict the prices of houses based on their square footage and the number of bedrooms and bathrooms."
   ]
  },
  {
   "cell_type": "code",
   "execution_count": 5,
   "id": "d5ff8752",
   "metadata": {},
   "outputs": [
    {
     "name": "stdout",
     "output_type": "stream",
     "text": [
      "   Id  MSSubClass MSZoning  LotFrontage  LotArea Street Alley LotShape  \\\n",
      "0   1          60       RL         65.0     8450   Pave   NaN      Reg   \n",
      "1   2          20       RL         80.0     9600   Pave   NaN      Reg   \n",
      "2   3          60       RL         68.0    11250   Pave   NaN      IR1   \n",
      "3   4          70       RL         60.0     9550   Pave   NaN      IR1   \n",
      "4   5          60       RL         84.0    14260   Pave   NaN      IR1   \n",
      "5   6          50       RL         85.0    14115   Pave   NaN      IR1   \n",
      "6   7          20       RL         75.0    10084   Pave   NaN      Reg   \n",
      "7   8          60       RL          NaN    10382   Pave   NaN      IR1   \n",
      "\n",
      "  LandContour Utilities  ... PoolArea PoolQC  Fence MiscFeature MiscVal  \\\n",
      "0         Lvl    AllPub  ...        0    NaN    NaN         NaN       0   \n",
      "1         Lvl    AllPub  ...        0    NaN    NaN         NaN       0   \n",
      "2         Lvl    AllPub  ...        0    NaN    NaN         NaN       0   \n",
      "3         Lvl    AllPub  ...        0    NaN    NaN         NaN       0   \n",
      "4         Lvl    AllPub  ...        0    NaN    NaN         NaN       0   \n",
      "5         Lvl    AllPub  ...        0    NaN  MnPrv        Shed     700   \n",
      "6         Lvl    AllPub  ...        0    NaN    NaN         NaN       0   \n",
      "7         Lvl    AllPub  ...        0    NaN    NaN        Shed     350   \n",
      "\n",
      "  MoSold YrSold  SaleType  SaleCondition  SalePrice  \n",
      "0      2   2008        WD         Normal     208500  \n",
      "1      5   2007        WD         Normal     181500  \n",
      "2      9   2008        WD         Normal     223500  \n",
      "3      2   2006        WD        Abnorml     140000  \n",
      "4     12   2008        WD         Normal     250000  \n",
      "5     10   2009        WD         Normal     143000  \n",
      "6      8   2007        WD         Normal     307000  \n",
      "7     11   2009        WD         Normal     200000  \n",
      "\n",
      "[8 rows x 81 columns]\n"
     ]
    }
   ],
   "source": [
    "# Importing necessary libraries\n",
    "import pandas as pd\n",
    "import numpy as np\n",
    "from sklearn.model_selection import train_test_split\n",
    "from sklearn.linear_model import LinearRegression\n",
    "from sklearn.metrics import mean_squared_error, r2_score\n",
    "\n",
    "# Load the dataset\n",
    "file_path = 'C:/Users/vishal rajbhar/Desktop/vishaltrain.csv'  # Replace with the correct path\n",
    "data = pd.read_csv(file_path)\n",
    "\n",
    "# Display the first few rows to understand the structure\n",
    "print(data.head(8))\n",
    "\n"
   ]
  },
  {
   "cell_type": "code",
   "execution_count": 8,
   "id": "a8e8b249",
   "metadata": {},
   "outputs": [
    {
     "name": "stdout",
     "output_type": "stream",
     "text": [
      "Mean Squared Error: 2806426667.247852\n",
      "R-squared: 0.6341189942328374\n",
      "Model Coefficients:\n",
      "GrLivArea: 104.02630701226447\n",
      "BedroomAbvGr: -26655.16535734127\n",
      "FullBath: 30014.32410895662\n",
      "Predicted Price for Sample Data: 240377.51479736285\n"
     ]
    },
    {
     "name": "stderr",
     "output_type": "stream",
     "text": [
      "C:\\Users\\vishal rajbhar\\AppData\\Local\\Temp\\ipykernel_44064\\937973231.py:7: SettingWithCopyWarning: \n",
      "A value is trying to be set on a copy of a slice from a DataFrame\n",
      "\n",
      "See the caveats in the documentation: https://pandas.pydata.org/pandas-docs/stable/user_guide/indexing.html#returning-a-view-versus-a-copy\n",
      "  features.fillna(features.mean(), inplace=True)\n"
     ]
    }
   ],
   "source": [
    "# Selecting relevant features and target\n",
    "# Assuming `GrLivArea` (above ground square footage), `BedroomAbvGr`, and `FullBath` are used\n",
    "features = data[['GrLivArea', 'BedroomAbvGr', 'FullBath']]\n",
    "target = data['SalePrice']\n",
    "\n",
    "# Handle missing values (if any)\n",
    "features.fillna(features.mean(), inplace=True)\n",
    "target.fillna(target.mean(), inplace=True)\n",
    "\n",
    "# Split the data into training and testing sets\n",
    "X_train, X_test, y_train, y_test = train_test_split(features, target, test_size=0.2, random_state=42)\n",
    "\n",
    "# Initialize the linear regression model\n",
    "model = LinearRegression()\n",
    "\n",
    "# Train the model\n",
    "model.fit(X_train, y_train)\n",
    "\n",
    "# Make predictions\n",
    "y_pred = model.predict(X_test)\n",
    "\n",
    "# Evaluate the model\n",
    "mse = mean_squared_error(y_test, y_pred)\n",
    "r2 = r2_score(y_test, y_pred)\n",
    "\n",
    "print(f\"Mean Squared Error: {mse}\")\n",
    "print(f\"R-squared: {r2}\")\n",
    "\n",
    "# Display the coefficients of the model\n",
    "print(\"Model Coefficients:\")\n",
    "for feature, coef in zip(features.columns, model.coef_):\n",
    "    print(f\"{feature}: {coef}\")\n",
    "\n",
    "# Predict on a new sample\n",
    "sample_data = pd.DataFrame({\n",
    "    'GrLivArea': [2000],  # Example square footage\n",
    "    'BedroomAbvGr': [3],  # Example number of bedrooms\n",
    "    'FullBath': [2]       # Example number of full bathrooms\n",
    "})\n",
    "sample_prediction = model.predict(sample_data)\n",
    "print(f\"Predicted Price for Sample Data: {sample_prediction[0]}\")"
   ]
  }
 ],
 "metadata": {
  "kernelspec": {
   "display_name": "Python 3 (ipykernel)",
   "language": "python",
   "name": "python3"
  },
  "language_info": {
   "codemirror_mode": {
    "name": "ipython",
    "version": 3
   },
   "file_extension": ".py",
   "mimetype": "text/x-python",
   "name": "python",
   "nbconvert_exporter": "python",
   "pygments_lexer": "ipython3",
   "version": "3.11.5"
  }
 },
 "nbformat": 4,
 "nbformat_minor": 5
}
